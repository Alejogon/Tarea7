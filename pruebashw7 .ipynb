{
 "metadata": {
  "name": "pruebashw7 "
 },
 "nbformat": 3,
 "nbformat_minor": 0,
 "worksheets": [
  {
   "cells": [
    {
     "cell_type": "code",
     "collapsed": false,
     "input": [
      "%pylab inline\n",
      "import numpy as np"
     ],
     "language": "python",
     "metadata": {},
     "outputs": [
      {
       "output_type": "stream",
       "stream": "stdout",
       "text": [
        "\n",
        "Welcome to pylab, a matplotlib-based Python environment [backend: module://IPython.zmq.pylab.backend_inline].\n",
        "For more information, type 'help(pylab)'.\n"
       ]
      }
     ],
     "prompt_number": 24
    },
    {
     "cell_type": "code",
     "collapsed": false,
     "input": [
      "nx=200\n",
      "nt=1000\n",
      "c=1\n",
      "dx=1.0/100.0\n",
      "dt=1.0/5000.0\n",
      "\n",
      "b=c*dt/dx\n",
      "\n",
      "x=linspace(0,2,nx)\n",
      "\n",
      "#condiciones iniciales\n",
      "uini=3.0*sin(pi*x)\n",
      "uini[0]=0\n",
      "uini[1]=0\n",
      "\n",
      "\n",
      "plot(x,uini)\n"
     ],
     "language": "python",
     "metadata": {},
     "outputs": [
      {
       "output_type": "pyout",
       "prompt_number": 25,
       "text": [
        "[<matplotlib.lines.Line2D at 0x3f9abd0>]"
       ]
      },
      {
       "output_type": "display_data",
       "png": "[encoded data removed]"
      }
     ],
     "prompt_number": 25
    },
    {
     "cell_type": "code",
     "collapsed": false,
     "input": [
      "#FUturo\n",
      "u=np.zeros(nx)\n",
      "#El j\n",
      "up=uini.copy()\n",
      "#El j-1, al inicio el mismo porque no tenemos cond de 2 atras\n",
      "upp=uini.copy()\n",
      "\n",
      "utodos=np.zeros((nx,nt))\n",
      "\n",
      "for j in range (nx):\n",
      "    utodos[i,0]=uini[i]\n",
      "\n",
      "for n in range(1,nt):#porque se tiene la cond en el tiempo 0\n",
      "    \n",
      "    for i in range (1,nx-1):\n",
      "        u[i]= upp[i] - b*((up[i+1]**2 - up[i-1]**2)/2)\n",
      "        utodos[i,j]=u[i]\n",
      "        \n",
      "    up=u.copy()\n",
      "    upp=up.copy()\n",
      "    "
     ],
     "language": "python",
     "metadata": {},
     "outputs": [],
     "prompt_number": 29
    },
    {
     "cell_type": "code",
     "collapsed": false,
     "input": [
      "plot(x,up)"
     ],
     "language": "python",
     "metadata": {},
     "outputs": [
      {
       "output_type": "pyout",
       "prompt_number": 31,
       "text": [
        "[<matplotlib.lines.Line2D at 0x4040ad0>]"
       ]
      },
      {
       "output_type": "display_data",
       "png": "[encoded data removed]"
      }
     ],
     "prompt_number": 31
    },
    {
     "cell_type": "code",
     "collapsed": false,
     "input": [
      "x = linspace(0,2,nx)\n",
      "t = linspace(0,0.15,nt)\n",
      "\n",
      "fig = plt.figure(figsize(15,10))\n",
      "ax = fig.gca(projection='3d')\n",
      "x ,t = np.meshgrid(x,t)\n",
      "surf = ax.plot_wireframe(x,t,utodos)\n",
      "\n",
      "ax.zaxis.set_major_locator(LinearLocator(10))\n",
      "ax.zaxis.set_major_formatter(FormatStrFormatter('%.02f'))\n"
     ],
     "language": "python",
     "metadata": {},
     "outputs": [
      {
       "output_type": "pyout",
       "prompt_number": 23,
       "text": [
        "[4, 5, 6]"
       ]
      }
     ],
     "prompt_number": 23
    },
    {
     "cell_type": "code",
     "collapsed": false,
     "input": [],
     "language": "python",
     "metadata": {},
     "outputs": []
    }
   ],
   "metadata": {}
  }
 ]
}